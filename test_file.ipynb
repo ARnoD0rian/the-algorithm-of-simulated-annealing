{
 "cells": [
  {
   "cell_type": "code",
   "execution_count": 1,
   "metadata": {},
   "outputs": [],
   "source": [
    "import json\n",
    "from algorithm.classic import Algorithm as Clas\n",
    "from algorithm.classicKMethod import Algorithm as Kmethod\n",
    "from algorithm.modKmethod import Algorithm as ModKmenhod\n",
    "from algorithm.polupationModKmethod import Algorithm as PopModKmethod\n",
    "from algorithm.modKmethodpopulation import Algorithm as modKmethodpop\n",
    "from algorithm.karcas import Algorithm\n",
    "import os\n",
    "import time"
   ]
  },
  {
   "cell_type": "markdown",
   "metadata": {},
   "source": [
    "функции для тестрирования работы алгоритмов"
   ]
  },
  {
   "cell_type": "code",
   "execution_count": 2,
   "metadata": {},
   "outputs": [],
   "source": [
    "N = 100\n",
    "\n",
    "def test_on_result(algorithm: Algorithm, filename: str):\n",
    "    with open(f\"results/result/{filename}.txt\", \"w\") as file:\n",
    "        for i in range(4, N + 1):\n",
    "            name = f\"tests/result/test_{i}.json\"\n",
    "            print(f\"test {i}, result\")\n",
    "            with open(name, \"r\") as json_file:\n",
    "                data = json.load(json_file)\n",
    "                algo = algorithm\n",
    "                algo.init_graph(data[\"num_vertex\"], data[\"edges\"])\n",
    "                sum_1 = 0\n",
    "                for edge in algo.search_hamilton_cycle():\n",
    "                    sum_1 += edge[\"weight\"]\n",
    "                file.write(f\"{sum_1}\\n\")\n",
    "                # print(f\"test,{i}, {filename}, {sum_1}\")\n",
    "\n",
    "def test_on_search(algorithm: Algorithm, filename: str):\n",
    "    with open(f\"results/search/{filename}.txt\", \"w\") as file:\n",
    "        k = 0\n",
    "        for i in range(4, N + 1):\n",
    "            name = f\"tests/search/test_{i}.json\"\n",
    "            print(f\"test {i}, search\")\n",
    "            with open(name, \"r\") as json_file:\n",
    "                data = json.load(json_file)\n",
    "                algo = algorithm\n",
    "                algo.init_graph(data[\"num_vertex\"], data[\"edges\"])\n",
    "                way = algo.search_hamilton_cycle()\n",
    "                if len(way) != 0: k += 1 \n",
    "                \n",
    "        file.write(f\"{k/N * 100}\\n\")\n",
    "        \n",
    "def test_on_time(algorithm: Algorithm, filename: str):\n",
    "    with open(f\"results/time/{filename}.txt\", \"w\") as file:\n",
    "        for i in range(4, N + 1):\n",
    "            name = f\"tests/time/test_{i}.json\"\n",
    "            print(f\"test {i}, time\")\n",
    "            with open(name, \"r\") as json_file:\n",
    "                data = json.load(json_file)\n",
    "                algo = algorithm\n",
    "                time_start = time.time()\n",
    "                algo.init_graph(data[\"num_vertex\"], data[\"edges\"])\n",
    "                way = algo.search_hamilton_cycle()\n",
    "                time_end = time.time()\n",
    "                if len(way) != 0: file.write(f\"{time_end - time_start}\\n\")\n",
    "\n",
    "def start_test(algorithm: Algorithm, filename: str, test):\n",
    "    test(algorithm, filename)\n",
    "    print(f\"{filename} has completed successfully, {test.__name__}\")\n",
    "    \n",
    "tests = {\"result\": test_on_result, \"search\": test_on_search, \"time\": test_on_time}"
   ]
  },
  {
   "cell_type": "code",
   "execution_count": 3,
   "metadata": {},
   "outputs": [
    {
     "name": "stdout",
     "output_type": "stream",
     "text": [
      "test 4, search\n",
      "test 5, search\n",
      "test 6, search\n",
      "test 7, search\n",
      "test 8, search\n",
      "test 9, search\n",
      "test 10, search\n",
      "test 11, search\n",
      "test 12, search\n",
      "test 13, search\n",
      "test 14, search\n",
      "test 15, search\n",
      "test 16, search\n",
      "test 17, search\n",
      "test 18, search\n",
      "test 19, search\n",
      "test 20, search\n",
      "test 21, search\n",
      "test 22, search\n",
      "test 23, search\n",
      "test 24, search\n",
      "test 25, search\n",
      "test 26, search\n",
      "test 27, search\n",
      "test 28, search\n",
      "test 29, search\n",
      "test 30, search\n",
      "test 31, search\n",
      "test 32, search\n",
      "test 33, search\n",
      "test 34, search\n",
      "test 35, search\n",
      "test 36, search\n",
      "test 37, search\n",
      "test 38, search\n",
      "test 39, search\n",
      "test 40, search\n",
      "test 41, search\n",
      "test 42, search\n",
      "test 43, search\n",
      "test 44, search\n",
      "test 45, search\n",
      "test 46, search\n",
      "test 47, search\n",
      "test 48, search\n",
      "test 49, search\n"
     ]
    },
    {
     "ename": "KeyboardInterrupt",
     "evalue": "",
     "output_type": "error",
     "traceback": [
      "\u001b[1;31m---------------------------------------------------------------------------\u001b[0m",
      "\u001b[1;31mKeyboardInterrupt\u001b[0m                         Traceback (most recent call last)",
      "Cell \u001b[1;32mIn[3], line 1\u001b[0m\n\u001b[1;32m----> 1\u001b[0m \u001b[43mstart_test\u001b[49m\u001b[43m(\u001b[49m\u001b[43mClas\u001b[49m\u001b[43m(\u001b[49m\u001b[43m)\u001b[49m\u001b[43m,\u001b[49m\u001b[43m \u001b[49m\u001b[38;5;124;43m\"\u001b[39;49m\u001b[38;5;124;43msumulated_annealing\u001b[39;49m\u001b[38;5;124;43m\"\u001b[39;49m\u001b[43m,\u001b[49m\u001b[43m \u001b[49m\u001b[43mtests\u001b[49m\u001b[43m[\u001b[49m\u001b[38;5;124;43m\"\u001b[39;49m\u001b[38;5;124;43msearch\u001b[39;49m\u001b[38;5;124;43m\"\u001b[39;49m\u001b[43m]\u001b[49m\u001b[43m)\u001b[49m\n\u001b[0;32m      2\u001b[0m start_test(ModKmenhod(), \u001b[38;5;124m\"\u001b[39m\u001b[38;5;124msumulated_annealing_mod_neibhor\u001b[39m\u001b[38;5;124m\"\u001b[39m, tests[\u001b[38;5;124m\"\u001b[39m\u001b[38;5;124msearch\u001b[39m\u001b[38;5;124m\"\u001b[39m])\n\u001b[0;32m      3\u001b[0m start_test(modKmethodpop(), \u001b[38;5;124m\"\u001b[39m\u001b[38;5;124msumulated_annealing_mod_population\u001b[39m\u001b[38;5;124m\"\u001b[39m, tests[\u001b[38;5;124m\"\u001b[39m\u001b[38;5;124msearch\u001b[39m\u001b[38;5;124m\"\u001b[39m])\n",
      "Cell \u001b[1;32mIn[2], line 48\u001b[0m, in \u001b[0;36mstart_test\u001b[1;34m(algorithm, filename, test)\u001b[0m\n\u001b[0;32m     47\u001b[0m \u001b[38;5;28;01mdef\u001b[39;00m \u001b[38;5;21mstart_test\u001b[39m(algorithm: Algorithm, filename: \u001b[38;5;28mstr\u001b[39m, test):\n\u001b[1;32m---> 48\u001b[0m     \u001b[43mtest\u001b[49m\u001b[43m(\u001b[49m\u001b[43malgorithm\u001b[49m\u001b[43m,\u001b[49m\u001b[43m \u001b[49m\u001b[43mfilename\u001b[49m\u001b[43m)\u001b[49m\n\u001b[0;32m     49\u001b[0m     \u001b[38;5;28mprint\u001b[39m(\u001b[38;5;124mf\u001b[39m\u001b[38;5;124m\"\u001b[39m\u001b[38;5;132;01m{\u001b[39;00mfilename\u001b[38;5;132;01m}\u001b[39;00m\u001b[38;5;124m has completed successfully, \u001b[39m\u001b[38;5;132;01m{\u001b[39;00mtest\u001b[38;5;241m.\u001b[39m\u001b[38;5;18m__name__\u001b[39m\u001b[38;5;132;01m}\u001b[39;00m\u001b[38;5;124m\"\u001b[39m)\n",
      "Cell \u001b[1;32mIn[2], line 28\u001b[0m, in \u001b[0;36mtest_on_search\u001b[1;34m(algorithm, filename)\u001b[0m\n\u001b[0;32m     26\u001b[0m         algo \u001b[38;5;241m=\u001b[39m algorithm\n\u001b[0;32m     27\u001b[0m         algo\u001b[38;5;241m.\u001b[39minit_graph(data[\u001b[38;5;124m\"\u001b[39m\u001b[38;5;124mnum_vertex\u001b[39m\u001b[38;5;124m\"\u001b[39m], data[\u001b[38;5;124m\"\u001b[39m\u001b[38;5;124medges\u001b[39m\u001b[38;5;124m\"\u001b[39m])\n\u001b[1;32m---> 28\u001b[0m         way \u001b[38;5;241m=\u001b[39m \u001b[43malgo\u001b[49m\u001b[38;5;241;43m.\u001b[39;49m\u001b[43msearch_hamilton_cycle\u001b[49m\u001b[43m(\u001b[49m\u001b[43m)\u001b[49m\n\u001b[0;32m     29\u001b[0m         \u001b[38;5;28;01mif\u001b[39;00m \u001b[38;5;28mlen\u001b[39m(way) \u001b[38;5;241m!=\u001b[39m \u001b[38;5;241m0\u001b[39m: k \u001b[38;5;241m+\u001b[39m\u001b[38;5;241m=\u001b[39m \u001b[38;5;241m1\u001b[39m \n\u001b[0;32m     31\u001b[0m file\u001b[38;5;241m.\u001b[39mwrite(\u001b[38;5;124mf\u001b[39m\u001b[38;5;124m\"\u001b[39m\u001b[38;5;132;01m{\u001b[39;00mk\u001b[38;5;241m/\u001b[39mN\u001b[38;5;250m \u001b[39m\u001b[38;5;241m*\u001b[39m\u001b[38;5;250m \u001b[39m\u001b[38;5;241m100\u001b[39m\u001b[38;5;132;01m}\u001b[39;00m\u001b[38;5;130;01m\\n\u001b[39;00m\u001b[38;5;124m\"\u001b[39m)\n",
      "File \u001b[1;32mc:\\home_screen\\programming\\the algorithm of simulated annealing\\algorithm\\classic.py:35\u001b[0m, in \u001b[0;36mAlgorithm.search_hamilton_cycle\u001b[1;34m(self)\u001b[0m\n\u001b[0;32m     34\u001b[0m \u001b[38;5;28;01mdef\u001b[39;00m \u001b[38;5;21msearch_hamilton_cycle\u001b[39m(\u001b[38;5;28mself\u001b[39m) \u001b[38;5;241m-\u001b[39m\u001b[38;5;241m>\u001b[39m \u001b[38;5;28mlist\u001b[39m[\u001b[38;5;28mdict\u001b[39m]:\n\u001b[1;32m---> 35\u001b[0m     edges_way \u001b[38;5;241m=\u001b[39m \u001b[38;5;28;43mself\u001b[39;49m\u001b[38;5;241;43m.\u001b[39;49m\u001b[43msearch_first_way\u001b[49m\u001b[43m(\u001b[49m\u001b[43m)\u001b[49m\n\u001b[0;32m     36\u001b[0m     \u001b[38;5;28;01mif\u001b[39;00m \u001b[38;5;28mlen\u001b[39m(edges_way) \u001b[38;5;241m==\u001b[39m \u001b[38;5;241m0\u001b[39m: \u001b[38;5;28;01mreturn\u001b[39;00m edges_way\n\u001b[0;32m     37\u001b[0m     vertexes_way \u001b[38;5;241m=\u001b[39m [edge[\u001b[38;5;124m\"\u001b[39m\u001b[38;5;124mfrom\u001b[39m\u001b[38;5;124m\"\u001b[39m] \u001b[38;5;28;01mfor\u001b[39;00m edge \u001b[38;5;129;01min\u001b[39;00m edges_way]\n",
      "File \u001b[1;32mc:\\home_screen\\programming\\the algorithm of simulated annealing\\algorithm\\classic.py:80\u001b[0m, in \u001b[0;36mAlgorithm.search_first_way\u001b[1;34m(self)\u001b[0m\n\u001b[0;32m     77\u001b[0m way \u001b[38;5;241m=\u001b[39m \u001b[38;5;28mlist\u001b[39m(way); visited \u001b[38;5;241m=\u001b[39m \u001b[38;5;28mdict\u001b[39m(visited)\n\u001b[0;32m     78\u001b[0m may_way \u001b[38;5;241m=\u001b[39m []\n\u001b[1;32m---> 80\u001b[0m \u001b[38;5;28;01mfor\u001b[39;00m neighbor \u001b[38;5;129;01min\u001b[39;00m \u001b[38;5;28;43mself\u001b[39;49m\u001b[38;5;241;43m.\u001b[39;49m\u001b[43m_graph\u001b[49m\u001b[38;5;241;43m.\u001b[39;49m\u001b[43mneighbors\u001b[49m\u001b[43m(\u001b[49m\u001b[43mvertex\u001b[49m\u001b[43m)\u001b[49m:\n\u001b[0;32m     81\u001b[0m     \u001b[38;5;28;01mif\u001b[39;00m \u001b[38;5;129;01mnot\u001b[39;00m visited[neighbor]:\n\u001b[0;32m     82\u001b[0m         visited[neighbor] \u001b[38;5;241m=\u001b[39m \u001b[38;5;28;01mTrue\u001b[39;00m\n",
      "File \u001b[1;32mc:\\Users\\kolos\\AppData\\Local\\Programs\\Python\\Python311\\Lib\\site-packages\\networkx\\classes\\digraph.py:899\u001b[0m, in \u001b[0;36mDiGraph.successors\u001b[1;34m(self, n)\u001b[0m\n\u001b[0;32m    875\u001b[0m \u001b[38;5;250m\u001b[39m\u001b[38;5;124;03m\"\"\"Returns an iterator over successor nodes of n.\u001b[39;00m\n\u001b[0;32m    876\u001b[0m \n\u001b[0;32m    877\u001b[0m \u001b[38;5;124;03mA successor of n is a node m such that there exists a directed\u001b[39;00m\n\u001b[1;32m   (...)\u001b[0m\n\u001b[0;32m    896\u001b[0m \u001b[38;5;124;03mneighbors() and successors() are the same.\u001b[39;00m\n\u001b[0;32m    897\u001b[0m \u001b[38;5;124;03m\"\"\"\u001b[39;00m\n\u001b[0;32m    898\u001b[0m \u001b[38;5;28;01mtry\u001b[39;00m:\n\u001b[1;32m--> 899\u001b[0m     \u001b[38;5;28;01mreturn\u001b[39;00m \u001b[38;5;28miter\u001b[39m(\u001b[38;5;28mself\u001b[39m\u001b[38;5;241m.\u001b[39m_succ[n])\n\u001b[0;32m    900\u001b[0m \u001b[38;5;28;01mexcept\u001b[39;00m \u001b[38;5;167;01mKeyError\u001b[39;00m \u001b[38;5;28;01mas\u001b[39;00m err:\n\u001b[0;32m    901\u001b[0m     \u001b[38;5;28;01mraise\u001b[39;00m NetworkXError(\u001b[38;5;124mf\u001b[39m\u001b[38;5;124m\"\u001b[39m\u001b[38;5;124mThe node \u001b[39m\u001b[38;5;132;01m{\u001b[39;00mn\u001b[38;5;132;01m}\u001b[39;00m\u001b[38;5;124m is not in the digraph.\u001b[39m\u001b[38;5;124m\"\u001b[39m) \u001b[38;5;28;01mfrom\u001b[39;00m \u001b[38;5;21;01merr\u001b[39;00m\n",
      "\u001b[1;31mKeyboardInterrupt\u001b[0m: "
     ]
    }
   ],
   "source": [
    "start_test(modKmethodpop(), \"sumulated_annealing_mod_population\", tests[\"result\"])\n",
    "start_test(PopModKmethod(), \"nearest_neibhor_population\", tests[\"result\"])"
   ]
  }
 ],
 "metadata": {
  "kernelspec": {
   "display_name": "Python 3",
   "language": "python",
   "name": "python3"
  },
  "language_info": {
   "codemirror_mode": {
    "name": "ipython",
    "version": 3
   },
   "file_extension": ".py",
   "mimetype": "text/x-python",
   "name": "python",
   "nbconvert_exporter": "python",
   "pygments_lexer": "ipython3",
   "version": "3.11.4"
  }
 },
 "nbformat": 4,
 "nbformat_minor": 2
}
